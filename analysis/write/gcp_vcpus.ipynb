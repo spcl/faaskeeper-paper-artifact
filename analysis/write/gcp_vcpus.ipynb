{
 "cells": [
  {
   "cell_type": "code",
   "execution_count": 27,
   "id": "45ecff30",
   "metadata": {},
   "outputs": [],
   "source": [
    "import pandas as pd\n",
    "import numpy as np\n",
    "import os\n",
    "from os.path import join, pardir\n",
    "DATA_DIR = join(pardir, pardir, 'data', 'write_new_algorithm', 'gcp_cloud_storage')\n",
    "DATA_DIR_ZK = join(pardir, pardir, 'data', 'write_zookeeper')\n",
    "\n",
    "dfs = []\n",
    "dfs2 = []\n",
    "for mem in [512]:\n",
    "    \n",
    "    for size in [4, 65536, 262144]:\n",
    "        df = pd.read_csv(join(DATA_DIR, f'persistent_{size}_{mem}_processed.csv'), index_col=0)\n",
    "        df['size'] = size / 1024\n",
    "        \n",
    "        df['cpus'] = 0.33\n",
    "        dfs.append(df)\n",
    "        \n",
    "for mem in [512]:\n",
    "    \n",
    "    for size in [4, 65536, 262144]:\n",
    "        df = pd.read_csv(join(DATA_DIR, '1vCPU_512', f'persistent_{size}_1vCPU_{mem}_processed.csv'), index_col=0)\n",
    "        df['size'] = size / 1024\n",
    "        \n",
    "        df['cpus'] = 1\n",
    "        dfs2.append(df)\n",
    "#print(dfs)\n",
    "data = pd.concat([*dfs, *dfs2])\n"
   ]
  },
  {
   "cell_type": "markdown",
   "id": "cf5f3f9a",
   "metadata": {},
   "source": [
    "## Performance change"
   ]
  },
  {
   "cell_type": "code",
   "execution_count": 22,
   "id": "4854d07a",
   "metadata": {},
   "outputs": [
    {
     "name": "stdout",
     "output_type": "stream",
     "text": [
      "Median function     memory  size      \n",
      "distributor  512     0.003906      0.948596\n",
      "                     64.000000     0.985185\n",
      "                     256.000000    1.036033\n",
      "writer       512     0.003906      0.968738\n",
      "                     64.000000     1.037377\n",
      "                     256.000000    0.951149\n",
      "Name: time, dtype: float64\n",
      "Mean function     memory  size      \n",
      "distributor  512     0.003906      0.981013\n",
      "                     64.000000     0.956545\n",
      "                     256.000000    1.023722\n",
      "writer       512     0.003906      0.900045\n",
      "                     64.000000     0.985159\n",
      "                     256.000000    0.911737\n",
      "Name: time, dtype: float64\n"
     ]
    }
   ],
   "source": [
    "#print(data.groupby(['function', 'memory', 'size', 'cpus'])['time'].median())\n",
    "#print(data.groupby(['function', 'memory', 'size', 'cpus'])['time'].mean())\n",
    "#print(data.groupby(['function', 'memory', 'size', 'cpus'])['time'].quantile(.95))\n",
    "#print(data.groupby(['function', 'memory', 'size', 'cpus'])['time'].quantile(.99))\n",
    "\n",
    "small = data.loc[data['cpus'] == 0.33].groupby(['function', 'memory', 'size'])['time'].median()\n",
    "large = data.loc[data['cpus'] == 1.00].groupby(['function', 'memory', 'size'])['time'].median()\n",
    "print('Median', small/large)\n",
    "small = data.loc[data['cpus'] == 0.33].groupby(['function', 'memory', 'size'])['time'].mean()\n",
    "large = data.loc[data['cpus'] == 1.00].groupby(['function', 'memory', 'size'])['time'].mean()\n",
    "print('Mean', small/large)"
   ]
  },
  {
   "cell_type": "markdown",
   "id": "6904ff8b",
   "metadata": {},
   "source": [
    "### Cost reduction"
   ]
  },
  {
   "cell_type": "code",
   "execution_count": 28,
   "id": "85948208",
   "metadata": {},
   "outputs": [],
   "source": [
    "import math\n",
    "# PUT, COPY, POST, LIST requests (per 1,000 requests)\n",
    "\n",
    "\n",
    "gcp_gbs = 0.0000025\n",
    "gcp_ghzs = 0.0000100\n",
    "gcp_invocations =  0.0000004\n",
    "\n",
    "def func_cost(length, cpu, memory):\n",
    "    return cpu * 2.4 * length * gcp_ghzs +  memory/1024 * length * gcp_gbs + gcp_invocations\n"
   ]
  },
  {
   "cell_type": "code",
   "execution_count": 29,
   "id": "71aa8fd5",
   "metadata": {},
   "outputs": [
    {
     "name": "stdout",
     "output_type": "stream",
     "text": [
      "how much lower is cost 0    0.378965\n",
      "1    0.391701\n",
      "2    0.407951\n",
      "3    0.442999\n",
      "4    0.460991\n",
      "5    0.431448\n",
      "Name: cost, dtype: float64\n",
      "cost reduction 0    0.621035\n",
      "1    0.608299\n",
      "2    0.592049\n",
      "3    0.557001\n",
      "4    0.539009\n",
      "5    0.568552\n",
      "Name: cost, dtype: float64\n"
     ]
    }
   ],
   "source": [
    "import pandas as pd\n",
    "vals= []\n",
    "for idx, group in data.groupby(['function', 'memory', 'size', 'cpus']):\n",
    "    \n",
    "    #print(idx, group['time'].median())\n",
    "    cost=func_cost(group['time'].median()/1000.0, idx[3], idx[1])\n",
    "    #print('Cost', cost)\n",
    "    vals.append([*idx, cost])\n",
    "df = pd.DataFrame(vals, columns=['function', 'memory', 'size', 'cpus', 'cost'])\n",
    "\n",
    "small = df.loc[df['cpus'] == 0.33].reset_index()\n",
    "large = df.loc[df['cpus'] == 1.00].reset_index()\n",
    "#print(small)\n",
    "#print(large)\n",
    "print('how much lower is cost', small['cost']/large['cost'])\n",
    "print('cost reduction', 1-small['cost']/large['cost'])"
   ]
  },
  {
   "cell_type": "code",
   "execution_count": null,
   "id": "467be5f9",
   "metadata": {},
   "outputs": [],
   "source": []
  }
 ],
 "metadata": {
  "kernelspec": {
   "display_name": "Python 3 (ipykernel)",
   "language": "python",
   "name": "python3"
  },
  "language_info": {
   "codemirror_mode": {
    "name": "ipython",
    "version": 3
   },
   "file_extension": ".py",
   "mimetype": "text/x-python",
   "name": "python",
   "nbconvert_exporter": "python",
   "pygments_lexer": "ipython3",
   "version": "3.10.12"
  }
 },
 "nbformat": 4,
 "nbformat_minor": 5
}
